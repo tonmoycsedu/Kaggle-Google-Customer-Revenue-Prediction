{
 "cells": [
  {
   "cell_type": "code",
   "execution_count": 1,
   "metadata": {
    "_cell_guid": "b1076dfc-b9ad-4769-8c92-a6c4dae69d19",
    "_uuid": "8f2839f25d086af736a60e9eeb907d3b93b6e0e5"
   },
   "outputs": [
    {
     "data": {
      "text/html": [
       "<script>requirejs.config({paths: { 'plotly': ['https://cdn.plot.ly/plotly-latest.min']},});if(!window.Plotly) {{require(['plotly'],function(plotly) {window.Plotly=plotly;});}}</script>"
      ],
      "text/vnd.plotly.v1+html": [
       "<script>requirejs.config({paths: { 'plotly': ['https://cdn.plot.ly/plotly-latest.min']},});if(!window.Plotly) {{require(['plotly'],function(plotly) {window.Plotly=plotly;});}}</script>"
      ]
     },
     "metadata": {},
     "output_type": "display_data"
    }
   ],
   "source": [
    "import numpy as np \n",
    "import pandas as pd \n",
    "import os\n",
    "\n",
    "import matplotlib.pyplot as plt; plt.rcdefaults()\n",
    "import numpy as np\n",
    "import matplotlib.pyplot as plt\n",
    "\n",
    "from sklearn import preprocessing\n",
    "\n",
    "import plotly.plotly as py #For World Map\n",
    "import plotly.graph_objs as go\n",
    "from plotly.offline import download_plotlyjs, init_notebook_mode, plot, iplot\n",
    "init_notebook_mode(connected=True)"
   ]
  },
  {
   "cell_type": "code",
   "execution_count": null,
   "metadata": {
    "_cell_guid": "79c7e3d0-c299-4dcb-8224-4455121ee9b0",
    "_uuid": "d629ff2d2480ee46fbb7e2d37f6b5fab8052498a",
    "collapsed": true
   },
   "outputs": [],
   "source": [
    "\n",
    "Location = r'../input/train.csv'\n",
    "#df = pd.read_csv(Location)"
   ]
  },
  {
   "cell_type": "markdown",
   "metadata": {
    "_uuid": "4f020242e5139f9d6aca31141ae6336b32623c14"
   },
   "source": [
    "### Task 1: Preprocessing\n",
    "###### Function to read json attributes"
   ]
  },
  {
   "cell_type": "code",
   "execution_count": null,
   "metadata": {
    "_uuid": "e23df06de6d9e1f734530ec58863ce8a435e4481",
    "collapsed": true
   },
   "outputs": [],
   "source": [
    "import os\n",
    "import json\n",
    "from pandas.io.json import json_normalize\n",
    "\n",
    "def load_df(csv_path='../input/ga-customer-revenue-prediction/train.csv', nrows=None):\n",
    "    JSON_COLUMNS = ['device', 'geoNetwork', 'totals', 'trafficSource']\n",
    "    \n",
    "    df = pd.read_csv(csv_path, \n",
    "                     converters={column: json.loads for column in JSON_COLUMNS}, \n",
    "                     dtype={'fullVisitorId': 'str'}, # Important!!\n",
    "                     nrows=nrows)\n",
    "    \n",
    "    for column in JSON_COLUMNS:\n",
    "        column_as_df = json_normalize(df[column])\n",
    "        column_as_df.columns = [f\"{column}.{subcolumn}\" for subcolumn in column_as_df.columns]\n",
    "        df = df.drop(column, axis=1).merge(column_as_df, right_index=True, left_index=True)\n",
    "    print(f\"Loaded {os.path.basename(csv_path)}. Shape: {df.shape}\")\n",
    "    return df"
   ]
  },
  {
   "cell_type": "markdown",
   "metadata": {
    "_uuid": "4b89b96e31ae62d488a5efa0821224ac63b43555"
   },
   "source": [
    "\n",
    "###### At First load data and convert data from json to different features"
   ]
  },
  {
   "cell_type": "code",
   "execution_count": null,
   "metadata": {
    "_uuid": "c5fb84ca1d625c21b447fc952dce726a2042c761",
    "collapsed": true
   },
   "outputs": [],
   "source": [
    "df_train = load_df()"
   ]
  },
  {
   "cell_type": "code",
   "execution_count": null,
   "metadata": {
    "_uuid": "c16d2359b63eb4e112743275e63a93dc7023dd03",
    "collapsed": true
   },
   "outputs": [],
   "source": [
    "df_train.head()"
   ]
  },
  {
   "cell_type": "code",
   "execution_count": null,
   "metadata": {
    "_uuid": "c89fb231712641e2a1c98c99afe348bcdc1d9069",
    "collapsed": true
   },
   "outputs": [],
   "source": [
    "null_count = df_train.isna().sum()\n",
    "null_count"
   ]
  },
  {
   "cell_type": "code",
   "execution_count": null,
   "metadata": {
    "_uuid": "d59c08cf47197afb318c2563e864d6bc63d51874",
    "collapsed": true
   },
   "outputs": [],
   "source": [
    "def plot_nullValues(count,column):\n",
    "\n",
    "\n",
    "    fig, ax = plt.subplots()\n",
    "\n",
    "    # Example data\n",
    "    X = column\n",
    "    y_pos = np.arange(len(X))\n",
    "    Y = count\n",
    "\n",
    "\n",
    "    ax.barh(y_pos, Y, align='center',\n",
    "            color='green', ecolor='black')\n",
    "    ax.set_yticks(y_pos)\n",
    "    ax.set_yticklabels(X)\n",
    "    ax.invert_yaxis()  # labels read top-to-bottom\n",
    "    ax.set_xlabel('Null Count')\n",
    "    ax.set_title('Null count for columns')\n",
    "\n",
    "    plt.show()"
   ]
  },
  {
   "cell_type": "code",
   "execution_count": null,
   "metadata": {
    "_uuid": "81697ca4be6ea3f20ad81db5e6d339d59bf20402",
    "collapsed": true
   },
   "outputs": [],
   "source": [
    "def preprocess(df, train):\n",
    "    if(train):\n",
    "        df_train[\"totals.transactionRevenue\"].fillna(0, inplace=True)\n",
    "    df[\"totals.pageviews\"].fillna(0, inplace=True)\n",
    "    \n",
    "    null_count = df.isna().sum()\n",
    "    column = []\n",
    "    count = []\n",
    "    for i in range(len(null_count)):\n",
    "        if(null_count[i]>0):\n",
    "            count.append(null_count[i])\n",
    "            column.append(null_count.keys()[i])\n",
    "            \n",
    "    plot_nullValues(count,column)\n",
    "    \n",
    "    return column\n",
    "\n",
    "    \n",
    "    "
   ]
  },
  {
   "cell_type": "markdown",
   "metadata": {
    "_uuid": "7f6537c1e451f140310cebbbfef67b4093590c87"
   },
   "source": [
    "For now, I am dropping all the attributes with null values. I will come back to this again later\n"
   ]
  },
  {
   "cell_type": "code",
   "execution_count": null,
   "metadata": {
    "_uuid": "9d8d5b7c04a1e7a47fbf4c7bec6212e96e1b1c2f",
    "collapsed": true
   },
   "outputs": [],
   "source": [
    "null_columns =  preprocess(df_train,1)\n",
    "#print(null_columns)\n",
    "df_train = df_train.drop(null_columns,axis=1)\n",
    "const_cols = [c for c in df_train.columns if df_train[c].nunique(dropna=False)==1 ]\n",
    "df_train = df_train.drop(const_cols,axis=1)\n"
   ]
  },
  {
   "cell_type": "code",
   "execution_count": null,
   "metadata": {
    "_uuid": "68d14ad1d51c9a6c8dea19fe3b2febe4f5e1d445",
    "collapsed": true
   },
   "outputs": [],
   "source": [
    "df_train.shape"
   ]
  },
  {
   "cell_type": "code",
   "execution_count": null,
   "metadata": {
    "_uuid": "eb24ff376fa90b9ca11a4d60aa3481464e4b2e5c",
    "collapsed": true,
    "scrolled": false
   },
   "outputs": [],
   "source": [
    "df_train.dtypes"
   ]
  },
  {
   "cell_type": "code",
   "execution_count": null,
   "metadata": {
    "_uuid": "97048a5202e28089438fc37ec3972367b74c8f8f",
    "collapsed": true
   },
   "outputs": [],
   "source": [
    "for col in ['totals.transactionRevenue','totals.hits','totals.pageviews']:\n",
    "    df_train[col]=df_train[col].astype(\"float\")"
   ]
  },
  {
   "cell_type": "code",
   "execution_count": null,
   "metadata": {
    "_uuid": "b5f2f38f9182ea1cb02c16ba73d39f3e1ec51e03",
    "collapsed": true
   },
   "outputs": [],
   "source": [
    "df_train.to_csv(\"preprocessed_training.csv\", index=False)"
   ]
  },
  {
   "cell_type": "markdown",
   "metadata": {},
   "source": [
    "### Load preprocessed data"
   ]
  },
  {
   "cell_type": "code",
   "execution_count": 2,
   "metadata": {},
   "outputs": [
    {
     "name": "stderr",
     "output_type": "stream",
     "text": [
      "/home/tonmoy/anaconda3/lib/python3.6/site-packages/IPython/core/interactiveshell.py:2717: DtypeWarning:\n",
      "\n",
      "Columns (2) have mixed types. Specify dtype option on import or set low_memory=False.\n",
      "\n"
     ]
    }
   ],
   "source": [
    "\n",
    "Location = r'preprocessed_training.csv'\n",
    "df_train = pd.read_csv(Location)"
   ]
  },
  {
   "cell_type": "code",
   "execution_count": 3,
   "metadata": {},
   "outputs": [
    {
     "data": {
      "text/plain": [
       "channelGrouping               object\n",
       "date                           int64\n",
       "fullVisitorId                 object\n",
       "sessionId                     object\n",
       "visitId                        int64\n",
       "visitNumber                    int64\n",
       "visitStartTime                 int64\n",
       "device.browser                object\n",
       "device.deviceCategory         object\n",
       "device.isMobile                 bool\n",
       "device.operatingSystem        object\n",
       "geoNetwork.city               object\n",
       "geoNetwork.continent          object\n",
       "geoNetwork.country            object\n",
       "geoNetwork.metro              object\n",
       "geoNetwork.networkDomain      object\n",
       "geoNetwork.region             object\n",
       "geoNetwork.subContinent       object\n",
       "totals.hits                  float64\n",
       "totals.pageviews             float64\n",
       "totals.transactionRevenue    float64\n",
       "trafficSource.campaign        object\n",
       "trafficSource.medium          object\n",
       "trafficSource.source          object\n",
       "dtype: object"
      ]
     },
     "execution_count": 3,
     "metadata": {},
     "output_type": "execute_result"
    }
   ],
   "source": [
    "df_train.dtypes"
   ]
  },
  {
   "cell_type": "markdown",
   "metadata": {
    "_uuid": "1e6ed772b584a9edf748a0f9a03a7d1eb0f3ad78"
   },
   "source": [
    "## Task 2: Plot graphs"
   ]
  },
  {
   "cell_type": "code",
   "execution_count": 4,
   "metadata": {
    "_uuid": "8a463faa23925af5dd27a0728e2d83c7a0a171d0"
   },
   "outputs": [
    {
     "ename": "ValueError",
     "evalue": "Arrays were different lengths: 3 vs 0",
     "output_type": "error",
     "traceback": [
      "\u001b[0;31m---------------------------------------------------------------------------\u001b[0m",
      "\u001b[0;31mValueError\u001b[0m                                Traceback (most recent call last)",
      "\u001b[0;32m<ipython-input-4-061347ea9411>\u001b[0m in \u001b[0;36m<module>\u001b[0;34m()\u001b[0m\n\u001b[1;32m      7\u001b[0m sns.heatmap(corr, \n\u001b[1;32m      8\u001b[0m         \u001b[0mxticklabels\u001b[0m\u001b[0;34m=\u001b[0m\u001b[0mcorr\u001b[0m\u001b[0;34m.\u001b[0m\u001b[0mcolumns\u001b[0m\u001b[0;34m,\u001b[0m\u001b[0;34m\u001b[0m\u001b[0m\n\u001b[0;32m----> 9\u001b[0;31m         yticklabels=corr.columns)\n\u001b[0m",
      "\u001b[0;32m/home/tonmoy/anaconda3/lib/python3.6/site-packages/seaborn/matrix.py\u001b[0m in \u001b[0;36mheatmap\u001b[0;34m(data, vmin, vmax, cmap, center, robust, annot, fmt, annot_kws, linewidths, linecolor, cbar, cbar_kws, cbar_ax, square, ax, xticklabels, yticklabels, mask, **kwargs)\u001b[0m\n\u001b[1;32m    483\u001b[0m     plotter = _HeatMapper(data, vmin, vmax, cmap, center, robust, annot, fmt,\n\u001b[1;32m    484\u001b[0m                           \u001b[0mannot_kws\u001b[0m\u001b[0;34m,\u001b[0m \u001b[0mcbar\u001b[0m\u001b[0;34m,\u001b[0m \u001b[0mcbar_kws\u001b[0m\u001b[0;34m,\u001b[0m \u001b[0mxticklabels\u001b[0m\u001b[0;34m,\u001b[0m\u001b[0;34m\u001b[0m\u001b[0m\n\u001b[0;32m--> 485\u001b[0;31m                           yticklabels, mask)\n\u001b[0m\u001b[1;32m    486\u001b[0m \u001b[0;34m\u001b[0m\u001b[0m\n\u001b[1;32m    487\u001b[0m     \u001b[0;31m# Add the pcolormesh kwargs here\u001b[0m\u001b[0;34m\u001b[0m\u001b[0;34m\u001b[0m\u001b[0m\n",
      "\u001b[0;32m/home/tonmoy/anaconda3/lib/python3.6/site-packages/seaborn/matrix.py\u001b[0m in \u001b[0;36m__init__\u001b[0;34m(self, data, vmin, vmax, cmap, center, robust, annot, fmt, annot_kws, cbar, cbar_kws, xticklabels, yticklabels, mask)\u001b[0m\n\u001b[1;32m    141\u001b[0m         \u001b[0mnx\u001b[0m\u001b[0;34m,\u001b[0m \u001b[0mny\u001b[0m \u001b[0;34m=\u001b[0m \u001b[0mdata\u001b[0m\u001b[0;34m.\u001b[0m\u001b[0mT\u001b[0m\u001b[0;34m.\u001b[0m\u001b[0mshape\u001b[0m\u001b[0;34m\u001b[0m\u001b[0m\n\u001b[1;32m    142\u001b[0m \u001b[0;34m\u001b[0m\u001b[0m\n\u001b[0;32m--> 143\u001b[0;31m         \u001b[0;32mif\u001b[0m \u001b[0mxticklabels\u001b[0m \u001b[0;34m==\u001b[0m \u001b[0;34m[\u001b[0m\u001b[0;34m]\u001b[0m\u001b[0;34m:\u001b[0m\u001b[0;34m\u001b[0m\u001b[0m\n\u001b[0m\u001b[1;32m    144\u001b[0m             \u001b[0mself\u001b[0m\u001b[0;34m.\u001b[0m\u001b[0mxticks\u001b[0m \u001b[0;34m=\u001b[0m \u001b[0;34m[\u001b[0m\u001b[0;34m]\u001b[0m\u001b[0;34m\u001b[0m\u001b[0m\n\u001b[1;32m    145\u001b[0m             \u001b[0mself\u001b[0m\u001b[0;34m.\u001b[0m\u001b[0mxticklabels\u001b[0m \u001b[0;34m=\u001b[0m \u001b[0;34m[\u001b[0m\u001b[0;34m]\u001b[0m\u001b[0;34m\u001b[0m\u001b[0m\n",
      "\u001b[0;32m/home/tonmoy/anaconda3/lib/python3.6/site-packages/pandas/core/indexes/base.py\u001b[0m in \u001b[0;36m_evaluate_compare\u001b[0;34m(self, other)\u001b[0m\n\u001b[1;32m   3672\u001b[0m                     \u001b[0;32mwith\u001b[0m \u001b[0mnp\u001b[0m\u001b[0;34m.\u001b[0m\u001b[0merrstate\u001b[0m\u001b[0;34m(\u001b[0m\u001b[0mall\u001b[0m\u001b[0;34m=\u001b[0m\u001b[0;34m'ignore'\u001b[0m\u001b[0;34m)\u001b[0m\u001b[0;34m:\u001b[0m\u001b[0;34m\u001b[0m\u001b[0m\n\u001b[1;32m   3673\u001b[0m                         result = _comp_method_OBJECT_ARRAY(\n\u001b[0;32m-> 3674\u001b[0;31m                             op, self.values, other)\n\u001b[0m\u001b[1;32m   3675\u001b[0m                 \u001b[0;32melse\u001b[0m\u001b[0;34m:\u001b[0m\u001b[0;34m\u001b[0m\u001b[0m\n\u001b[1;32m   3676\u001b[0m                     \u001b[0;32mwith\u001b[0m \u001b[0mnp\u001b[0m\u001b[0;34m.\u001b[0m\u001b[0merrstate\u001b[0m\u001b[0;34m(\u001b[0m\u001b[0mall\u001b[0m\u001b[0;34m=\u001b[0m\u001b[0;34m'ignore'\u001b[0m\u001b[0;34m)\u001b[0m\u001b[0;34m:\u001b[0m\u001b[0;34m\u001b[0m\u001b[0m\n",
      "\u001b[0;32m/home/tonmoy/anaconda3/lib/python3.6/site-packages/pandas/core/ops.py\u001b[0m in \u001b[0;36m_comp_method_OBJECT_ARRAY\u001b[0;34m(op, x, y)\u001b[0m\n\u001b[1;32m    741\u001b[0m             \u001b[0my\u001b[0m \u001b[0;34m=\u001b[0m \u001b[0my\u001b[0m\u001b[0;34m.\u001b[0m\u001b[0mvalues\u001b[0m\u001b[0;34m\u001b[0m\u001b[0m\n\u001b[1;32m    742\u001b[0m \u001b[0;34m\u001b[0m\u001b[0m\n\u001b[0;32m--> 743\u001b[0;31m         \u001b[0mresult\u001b[0m \u001b[0;34m=\u001b[0m \u001b[0mlib\u001b[0m\u001b[0;34m.\u001b[0m\u001b[0mvec_compare\u001b[0m\u001b[0;34m(\u001b[0m\u001b[0mx\u001b[0m\u001b[0;34m,\u001b[0m \u001b[0my\u001b[0m\u001b[0;34m,\u001b[0m \u001b[0mop\u001b[0m\u001b[0;34m)\u001b[0m\u001b[0;34m\u001b[0m\u001b[0m\n\u001b[0m\u001b[1;32m    744\u001b[0m     \u001b[0;32melse\u001b[0m\u001b[0;34m:\u001b[0m\u001b[0;34m\u001b[0m\u001b[0m\n\u001b[1;32m    745\u001b[0m         \u001b[0mresult\u001b[0m \u001b[0;34m=\u001b[0m \u001b[0mlib\u001b[0m\u001b[0;34m.\u001b[0m\u001b[0mscalar_compare\u001b[0m\u001b[0;34m(\u001b[0m\u001b[0mx\u001b[0m\u001b[0;34m,\u001b[0m \u001b[0my\u001b[0m\u001b[0;34m,\u001b[0m \u001b[0mop\u001b[0m\u001b[0;34m)\u001b[0m\u001b[0;34m\u001b[0m\u001b[0m\n",
      "\u001b[0;32mpandas/_libs/lib.pyx\u001b[0m in \u001b[0;36mpandas._libs.lib.vec_compare (pandas/_libs/lib.c:14284)\u001b[0;34m()\u001b[0m\n",
      "\u001b[0;31mValueError\u001b[0m: Arrays were different lengths: 3 vs 0"
     ]
    }
   ],
   "source": [
    "import seaborn as sns\n",
    "\n",
    "temp_df = df_train[['totals.transactionRevenue','totals.hits','totals.pageviews']]\n",
    "corr = temp_df.corr()\n",
    "\n",
    "# plot the heatmap\n",
    "sns.heatmap(corr, \n",
    "        xticklabels=corr.columns,\n",
    "        yticklabels=corr.columns)"
   ]
  },
  {
   "cell_type": "code",
   "execution_count": 5,
   "metadata": {
    "_uuid": "5a32f0e7e879b1a6b32383c275dd689beecb8f86"
   },
   "outputs": [
    {
     "data": {
      "text/html": [
       "<div>\n",
       "<style>\n",
       "    .dataframe thead tr:only-child th {\n",
       "        text-align: right;\n",
       "    }\n",
       "\n",
       "    .dataframe thead th {\n",
       "        text-align: left;\n",
       "    }\n",
       "\n",
       "    .dataframe tbody tr th {\n",
       "        vertical-align: top;\n",
       "    }\n",
       "</style>\n",
       "<table border=\"1\" class=\"dataframe\">\n",
       "  <thead>\n",
       "    <tr style=\"text-align: right;\">\n",
       "      <th></th>\n",
       "      <th>fullVisitorId</th>\n",
       "      <th>date</th>\n",
       "      <th>totals.transactionRevenue</th>\n",
       "    </tr>\n",
       "  </thead>\n",
       "  <tbody>\n",
       "    <tr>\n",
       "      <th>0</th>\n",
       "      <td>1131660440785968503</td>\n",
       "      <td>20160902</td>\n",
       "      <td>0.0</td>\n",
       "    </tr>\n",
       "    <tr>\n",
       "      <th>1</th>\n",
       "      <td>377306020877927890</td>\n",
       "      <td>20160902</td>\n",
       "      <td>0.0</td>\n",
       "    </tr>\n",
       "    <tr>\n",
       "      <th>2</th>\n",
       "      <td>3895546263509774583</td>\n",
       "      <td>20160902</td>\n",
       "      <td>0.0</td>\n",
       "    </tr>\n",
       "    <tr>\n",
       "      <th>3</th>\n",
       "      <td>4763447161404445595</td>\n",
       "      <td>20160902</td>\n",
       "      <td>0.0</td>\n",
       "    </tr>\n",
       "    <tr>\n",
       "      <th>4</th>\n",
       "      <td>27294437909732085</td>\n",
       "      <td>20160902</td>\n",
       "      <td>0.0</td>\n",
       "    </tr>\n",
       "  </tbody>\n",
       "</table>\n",
       "</div>"
      ],
      "text/plain": [
       "         fullVisitorId      date  totals.transactionRevenue\n",
       "0  1131660440785968503  20160902                        0.0\n",
       "1   377306020877927890  20160902                        0.0\n",
       "2  3895546263509774583  20160902                        0.0\n",
       "3  4763447161404445595  20160902                        0.0\n",
       "4    27294437909732085  20160902                        0.0"
      ]
     },
     "execution_count": 5,
     "metadata": {},
     "output_type": "execute_result"
    }
   ],
   "source": [
    "plot2_df = df_train[['fullVisitorId','date','totals.transactionRevenue']]\n",
    "plot2_df.head()"
   ]
  },
  {
   "cell_type": "code",
   "execution_count": 6,
   "metadata": {
    "_uuid": "efd7696f6417e3a3450f0378afc953ce88642500",
    "collapsed": true
   },
   "outputs": [],
   "source": [
    "def make_feature(df):\n",
    "    \n",
    "    month = []\n",
    "    year = []\n",
    "    \n",
    "    for index, row in df.iterrows():\n",
    "        # Calculate year, month, date\n",
    "        year_val = str(row['date'])[:4]\n",
    "        month_val = str(row['date'])[4:6]\n",
    "        year.append(year_val)\n",
    "        month.append(month_val)\n",
    "#         print(year_val,month_val)\n",
    "                \n",
    "#         if(index == 5):\n",
    "#             break\n",
    "\n",
    "    df['month'] = month\n",
    "    df['year'] = year\n",
    "    #print(len(month))\n",
    "    \n",
    "    return df"
   ]
  },
  {
   "cell_type": "code",
   "execution_count": 7,
   "metadata": {
    "_uuid": "d6067ce7a011c53c97d7665f318f6e3c72a524fe"
   },
   "outputs": [
    {
     "name": "stderr",
     "output_type": "stream",
     "text": [
      "/home/tonmoy/anaconda3/lib/python3.6/site-packages/ipykernel_launcher.py:17: SettingWithCopyWarning:\n",
      "\n",
      "\n",
      "A value is trying to be set on a copy of a slice from a DataFrame.\n",
      "Try using .loc[row_indexer,col_indexer] = value instead\n",
      "\n",
      "See the caveats in the documentation: http://pandas.pydata.org/pandas-docs/stable/indexing.html#indexing-view-versus-copy\n",
      "\n",
      "/home/tonmoy/anaconda3/lib/python3.6/site-packages/ipykernel_launcher.py:18: SettingWithCopyWarning:\n",
      "\n",
      "\n",
      "A value is trying to be set on a copy of a slice from a DataFrame.\n",
      "Try using .loc[row_indexer,col_indexer] = value instead\n",
      "\n",
      "See the caveats in the documentation: http://pandas.pydata.org/pandas-docs/stable/indexing.html#indexing-view-versus-copy\n",
      "\n"
     ]
    }
   ],
   "source": [
    "plot2_df = make_feature(plot2_df)"
   ]
  },
  {
   "cell_type": "code",
   "execution_count": 8,
   "metadata": {
    "_uuid": "14e57291df536310d467087f05efab779f5090f9"
   },
   "outputs": [
    {
     "data": {
      "text/plain": [
       "array(['2016', '2017'], dtype=object)"
      ]
     },
     "execution_count": 8,
     "metadata": {},
     "output_type": "execute_result"
    }
   ],
   "source": [
    "plot2_df['year'].unique()"
   ]
  },
  {
   "cell_type": "code",
   "execution_count": 9,
   "metadata": {
    "_uuid": "5fbb93b9df882f0d74fbe474eaef63d7728b6f71",
    "collapsed": true
   },
   "outputs": [],
   "source": [
    "plot2_month_df = plot2_df[['month','totals.transactionRevenue']]"
   ]
  },
  {
   "cell_type": "code",
   "execution_count": 10,
   "metadata": {
    "_uuid": "0220e946ac1feabc3b5fddd78041bffabf05cab4",
    "scrolled": true
   },
   "outputs": [
    {
     "data": {
      "text/html": [
       "<div>\n",
       "<style>\n",
       "    .dataframe thead tr:only-child th {\n",
       "        text-align: right;\n",
       "    }\n",
       "\n",
       "    .dataframe thead th {\n",
       "        text-align: left;\n",
       "    }\n",
       "\n",
       "    .dataframe tbody tr th {\n",
       "        vertical-align: top;\n",
       "    }\n",
       "</style>\n",
       "<table border=\"1\" class=\"dataframe\">\n",
       "  <thead>\n",
       "    <tr style=\"text-align: right;\">\n",
       "      <th></th>\n",
       "      <th>month</th>\n",
       "      <th>totals.transactionRevenue</th>\n",
       "    </tr>\n",
       "  </thead>\n",
       "  <tbody>\n",
       "    <tr>\n",
       "      <th>0</th>\n",
       "      <td>01</td>\n",
       "      <td>1.512935e+06</td>\n",
       "    </tr>\n",
       "    <tr>\n",
       "      <th>1</th>\n",
       "      <td>02</td>\n",
       "      <td>1.748722e+06</td>\n",
       "    </tr>\n",
       "    <tr>\n",
       "      <th>2</th>\n",
       "      <td>03</td>\n",
       "      <td>1.872764e+06</td>\n",
       "    </tr>\n",
       "    <tr>\n",
       "      <th>3</th>\n",
       "      <td>04</td>\n",
       "      <td>2.365533e+06</td>\n",
       "    </tr>\n",
       "    <tr>\n",
       "      <th>4</th>\n",
       "      <td>05</td>\n",
       "      <td>1.861857e+06</td>\n",
       "    </tr>\n",
       "    <tr>\n",
       "      <th>5</th>\n",
       "      <td>06</td>\n",
       "      <td>1.912131e+06</td>\n",
       "    </tr>\n",
       "    <tr>\n",
       "      <th>6</th>\n",
       "      <td>07</td>\n",
       "      <td>1.733684e+06</td>\n",
       "    </tr>\n",
       "    <tr>\n",
       "      <th>7</th>\n",
       "      <td>08</td>\n",
       "      <td>2.107890e+06</td>\n",
       "    </tr>\n",
       "    <tr>\n",
       "      <th>8</th>\n",
       "      <td>09</td>\n",
       "      <td>1.774288e+06</td>\n",
       "    </tr>\n",
       "    <tr>\n",
       "      <th>9</th>\n",
       "      <td>10</td>\n",
       "      <td>1.162278e+06</td>\n",
       "    </tr>\n",
       "    <tr>\n",
       "      <th>10</th>\n",
       "      <td>11</td>\n",
       "      <td>1.044238e+06</td>\n",
       "    </tr>\n",
       "    <tr>\n",
       "      <th>11</th>\n",
       "      <td>12</td>\n",
       "      <td>1.953363e+06</td>\n",
       "    </tr>\n",
       "  </tbody>\n",
       "</table>\n",
       "</div>"
      ],
      "text/plain": [
       "   month  totals.transactionRevenue\n",
       "0     01               1.512935e+06\n",
       "1     02               1.748722e+06\n",
       "2     03               1.872764e+06\n",
       "3     04               2.365533e+06\n",
       "4     05               1.861857e+06\n",
       "5     06               1.912131e+06\n",
       "6     07               1.733684e+06\n",
       "7     08               2.107890e+06\n",
       "8     09               1.774288e+06\n",
       "9     10               1.162278e+06\n",
       "10    11               1.044238e+06\n",
       "11    12               1.953363e+06"
      ]
     },
     "execution_count": 10,
     "metadata": {},
     "output_type": "execute_result"
    }
   ],
   "source": [
    "grouped = plot2_month_df.groupby(['month'])['totals.transactionRevenue'].mean().reset_index()\n",
    "\n",
    "#grouped = grouped['totals.transactionRevenue'].agg(np.mean)\n",
    "grouped.head(13)"
   ]
  },
  {
   "cell_type": "code",
   "execution_count": 11,
   "metadata": {
    "_uuid": "2a164d51087835fa8de0de341ff08257f6d366ca"
   },
   "outputs": [
    {
     "data": {
      "image/png": "[encoded data removed]",
      "text/plain": [
       "<matplotlib.figure.Figure at 0x7f45c504e160>"
      ]
     },
     "metadata": {},
     "output_type": "display_data"
    }
   ],
   "source": [
    "objects = grouped['month']\n",
    "y_pos = np.arange(len(objects))\n",
    "performance = grouped['totals.transactionRevenue']\n",
    " \n",
    "plt.bar(y_pos, performance, align='center', alpha=0.5)\n",
    "plt.xticks(y_pos, objects)\n",
    "plt.ylabel('Average Transaction Revenue')\n",
    "plt.xlabel('Month')\n",
    "plt.title('Average Transaction Revenue per month')\n",
    " \n",
    "plt.show()"
   ]
  },
  {
   "cell_type": "code",
   "execution_count": 12,
   "metadata": {
    "_uuid": "c02c684c99157f32b91a947cc49fc0b13d69e38e"
   },
   "outputs": [
    {
     "data": {
      "text/html": [
       "<div>\n",
       "<style>\n",
       "    .dataframe thead tr:only-child th {\n",
       "        text-align: right;\n",
       "    }\n",
       "\n",
       "    .dataframe thead th {\n",
       "        text-align: left;\n",
       "    }\n",
       "\n",
       "    .dataframe tbody tr th {\n",
       "        vertical-align: top;\n",
       "    }\n",
       "</style>\n",
       "<table border=\"1\" class=\"dataframe\">\n",
       "  <thead>\n",
       "    <tr style=\"text-align: right;\">\n",
       "      <th></th>\n",
       "      <th>geoNetwork.continent</th>\n",
       "      <th>totals.transactionRevenue</th>\n",
       "    </tr>\n",
       "  </thead>\n",
       "  <tbody>\n",
       "    <tr>\n",
       "      <th>0</th>\n",
       "      <td>(not set)</td>\n",
       "      <td>5.243733e+05</td>\n",
       "    </tr>\n",
       "    <tr>\n",
       "      <th>1</th>\n",
       "      <td>Africa</td>\n",
       "      <td>5.892004e+05</td>\n",
       "    </tr>\n",
       "    <tr>\n",
       "      <th>2</th>\n",
       "      <td>Americas</td>\n",
       "      <td>3.340916e+06</td>\n",
       "    </tr>\n",
       "    <tr>\n",
       "      <th>3</th>\n",
       "      <td>Asia</td>\n",
       "      <td>7.779167e+04</td>\n",
       "    </tr>\n",
       "    <tr>\n",
       "      <th>4</th>\n",
       "      <td>Europe</td>\n",
       "      <td>3.402247e+04</td>\n",
       "    </tr>\n",
       "    <tr>\n",
       "      <th>5</th>\n",
       "      <td>Oceania</td>\n",
       "      <td>1.191198e+05</td>\n",
       "    </tr>\n",
       "  </tbody>\n",
       "</table>\n",
       "</div>"
      ],
      "text/plain": [
       "  geoNetwork.continent  totals.transactionRevenue\n",
       "0            (not set)               5.243733e+05\n",
       "1               Africa               5.892004e+05\n",
       "2             Americas               3.340916e+06\n",
       "3                 Asia               7.779167e+04\n",
       "4               Europe               3.402247e+04\n",
       "5              Oceania               1.191198e+05"
      ]
     },
     "execution_count": 12,
     "metadata": {},
     "output_type": "execute_result"
    }
   ],
   "source": [
    "plot3_continent_df = df_train[['geoNetwork.continent','totals.transactionRevenue']]\n",
    "grouped = plot3_continent_df.groupby(['geoNetwork.continent'])['totals.transactionRevenue'].mean().reset_index()\n",
    "\n",
    "\n",
    "grouped.head(13)"
   ]
  },
  {
   "cell_type": "code",
   "execution_count": 13,
   "metadata": {
    "_uuid": "c1a1279114586e667b0cf996e477518b0312649c"
   },
   "outputs": [
    {
     "data": {
      "text/html": [
       "<div>\n",
       "<style>\n",
       "    .dataframe thead tr:only-child th {\n",
       "        text-align: right;\n",
       "    }\n",
       "\n",
       "    .dataframe thead th {\n",
       "        text-align: left;\n",
       "    }\n",
       "\n",
       "    .dataframe tbody tr th {\n",
       "        vertical-align: top;\n",
       "    }\n",
       "</style>\n",
       "<table border=\"1\" class=\"dataframe\">\n",
       "  <thead>\n",
       "    <tr style=\"text-align: right;\">\n",
       "      <th></th>\n",
       "      <th>geoNetwork.continent</th>\n",
       "      <th>totals.transactionRevenue</th>\n",
       "    </tr>\n",
       "  </thead>\n",
       "  <tbody>\n",
       "    <tr>\n",
       "      <th>1</th>\n",
       "      <td>Africa</td>\n",
       "      <td>5.892004e+05</td>\n",
       "    </tr>\n",
       "    <tr>\n",
       "      <th>2</th>\n",
       "      <td>Americas</td>\n",
       "      <td>3.340916e+06</td>\n",
       "    </tr>\n",
       "    <tr>\n",
       "      <th>3</th>\n",
       "      <td>Asia</td>\n",
       "      <td>7.779167e+04</td>\n",
       "    </tr>\n",
       "    <tr>\n",
       "      <th>4</th>\n",
       "      <td>Europe</td>\n",
       "      <td>3.402247e+04</td>\n",
       "    </tr>\n",
       "    <tr>\n",
       "      <th>5</th>\n",
       "      <td>Oceania</td>\n",
       "      <td>1.191198e+05</td>\n",
       "    </tr>\n",
       "  </tbody>\n",
       "</table>\n",
       "</div>"
      ],
      "text/plain": [
       "  geoNetwork.continent  totals.transactionRevenue\n",
       "1               Africa               5.892004e+05\n",
       "2             Americas               3.340916e+06\n",
       "3                 Asia               7.779167e+04\n",
       "4               Europe               3.402247e+04\n",
       "5              Oceania               1.191198e+05"
      ]
     },
     "execution_count": 13,
     "metadata": {},
     "output_type": "execute_result"
    }
   ],
   "source": [
    "grouped = grouped.drop(0)\n",
    "grouped"
   ]
  },
  {
   "cell_type": "code",
   "execution_count": 14,
   "metadata": {
    "_uuid": "2581fbe8a51b908abdb95537813c1c77c2f94be8"
   },
   "outputs": [
    {
     "data": {
      "image/png": "[encoded data removed]",
      "text/plain": [
       "<matplotlib.figure.Figure at 0x7f45bb6ff518>"
      ]
     },
     "metadata": {},
     "output_type": "display_data"
    }
   ],
   "source": [
    "objects = grouped['geoNetwork.continent']\n",
    "y_pos = np.arange(len(objects))\n",
    "performance = grouped['totals.transactionRevenue']\n",
    " \n",
    "plt.bar(y_pos, performance, align='center', alpha=0.5)\n",
    "plt.xticks(y_pos, objects)\n",
    "plt.ylabel('Average Transaction Revenue')\n",
    "plt.xlabel('Continent')\n",
    "plt.title('Average Transaction Revenue per continent')\n",
    " \n",
    "plt.show()"
   ]
  },
  {
   "cell_type": "markdown",
   "metadata": {
    "_kg_hide-input": true,
    "_uuid": "142dc9f1facc4dcb9287a40cbdd7e19aa7c625e3"
   },
   "source": [
    "## Task 3: Clustering"
   ]
  },
  {
   "cell_type": "code",
   "execution_count": 15,
   "metadata": {
    "_uuid": "91992a527cd873c8954e5c4d65f73cf3e352dba3",
    "collapsed": true
   },
   "outputs": [],
   "source": [
    "from sklearn import preprocessing"
   ]
  },
  {
   "cell_type": "code",
   "execution_count": 16,
   "metadata": {
    "_uuid": "bfe34cec0c45b78e8656cce6e15103c63b8fc35e"
   },
   "outputs": [
    {
     "data": {
      "text/plain": [
       "array(['Turkey', 'Australia', 'Spain', 'Indonesia', 'United Kingdom',\n",
       "       'Italy', 'Pakistan', 'Austria', 'Netherlands', 'India', 'France',\n",
       "       'Brazil', 'China', 'Singapore', 'Argentina', 'Poland', 'Germany',\n",
       "       'Canada', 'Thailand', 'Hungary', 'Malaysia', 'Denmark', 'Taiwan',\n",
       "       'Russia', 'Nigeria', 'Belgium', 'South Korea', 'Chile', 'Ireland',\n",
       "       'Philippines', 'Greece', 'Mexico', 'Montenegro', 'United States',\n",
       "       'Bangladesh', 'Japan', 'Slovenia', 'Czechia', 'Sweden',\n",
       "       'United Arab Emirates', 'Switzerland', 'Portugal', 'Peru',\n",
       "       'Hong Kong', 'Vietnam', 'Sri Lanka', 'Serbia', 'Norway', 'Romania',\n",
       "       'Kenya', 'Ukraine', 'Israel', 'Slovakia', '(not set)', 'Lithuania',\n",
       "       'Puerto Rico', 'Bosnia & Herzegovina', 'Croatia', 'South Africa',\n",
       "       'Paraguay', 'Botswana', 'Colombia', 'Uruguay', 'Algeria', 'Finland',\n",
       "       'Guatemala', 'Egypt', 'Malta', 'Bulgaria', 'New Zealand', 'Kuwait',\n",
       "       'Uzbekistan', 'Saudi Arabia', 'Cyprus', 'Estonia', 'Côte d’Ivoire',\n",
       "       'Morocco', 'Tunisia', 'Venezuela', 'Dominican Republic', 'Senegal',\n",
       "       'Cape Verde', 'Costa Rica', 'Kazakhstan', 'Macedonia (FYROM)',\n",
       "       'Oman', 'Laos', 'Ethiopia', 'Panama', 'Belarus', 'Myanmar (Burma)',\n",
       "       'Moldova', 'Zimbabwe', 'Bahrain', 'Mongolia', 'Ghana', 'Albania',\n",
       "       'Kosovo', 'Georgia', 'Tanzania', 'Bolivia', 'Cambodia',\n",
       "       'Turks & Caicos Islands', 'Iraq', 'Jordan', 'Lebanon', 'Ecuador',\n",
       "       'Madagascar', 'Togo', 'Gambia', 'Jamaica', 'Trinidad & Tobago',\n",
       "       'Mauritius', 'Libya', 'Mauritania', 'El Salvador', 'Azerbaijan',\n",
       "       'Nicaragua', 'Palestine', 'Réunion', 'Iceland', 'Greenland',\n",
       "       'Armenia', 'Haiti', 'Uganda', 'Qatar', 'St. Kitts & Nevis',\n",
       "       'Somalia', 'Cameroon', 'Namibia', 'Latvia', 'Congo - Kinshasa',\n",
       "       'New Caledonia', 'Rwanda', 'Kyrgyzstan', 'Honduras', 'Nepal',\n",
       "       'Benin', 'Luxembourg', 'Guinea', 'Belize', 'Guinea-Bissau', 'Sudan',\n",
       "       'Yemen', 'Gabon', 'Maldives', 'Mozambique', 'French Guiana',\n",
       "       'Zambia', 'Macau', 'Tajikistan', 'Angola', 'Guadeloupe',\n",
       "       'Martinique', 'Brunei', 'Guyana', 'St. Lucia', 'Iran', 'Monaco',\n",
       "       'Swaziland', 'Curaçao', 'Bermuda', 'Guernsey', 'Afghanistan',\n",
       "       'Northern Mariana Islands', 'Guam', 'Antigua & Barbuda',\n",
       "       'Sint Maarten', 'Andorra', 'St. Vincent & Grenadines', 'Fiji',\n",
       "       'Mali', 'Papua New Guinea', 'Jersey', 'Faroe Islands',\n",
       "       'Cayman Islands', 'Chad', 'French Polynesia', 'Malawi', 'Suriname',\n",
       "       'Barbados', 'U.S. Virgin Islands', 'Djibouti', 'Mayotte', 'Aruba',\n",
       "       'Lesotho', 'Equatorial Guinea', 'Burkina Faso', 'Grenada',\n",
       "       'Norfolk Island', 'Isle of Man', 'Liechtenstein', 'Vanuatu',\n",
       "       'Sierra Leone', 'Bahamas', 'Åland Islands', 'St. Pierre & Miquelon',\n",
       "       'Gibraltar', 'British Virgin Islands', 'Burundi', 'Turkmenistan',\n",
       "       'Niger', 'Samoa', 'Timor-Leste', 'Syria', 'Comoros', 'Liberia',\n",
       "       'Bhutan', 'Cook Islands', 'American Samoa', 'Dominica', 'Anguilla',\n",
       "       'Caribbean Netherlands', 'Marshall Islands', 'Congo - Brazzaville',\n",
       "       'Seychelles', 'San Marino', 'Central African Republic',\n",
       "       'St. Martin', 'São Tomé & Príncipe', 'Eritrea', 'St. Barthélemy'], dtype=object)"
      ]
     },
     "execution_count": 16,
     "metadata": {},
     "output_type": "execute_result"
    }
   ],
   "source": [
    "df_train['geoNetwork.country'].unique()"
   ]
  },
  {
   "cell_type": "code",
   "execution_count": 17,
   "metadata": {
    "_uuid": "05e47d5837b7b2b93f39ad130d950b4492c8603b",
    "collapsed": true
   },
   "outputs": [],
   "source": [
    "cluster_df = df_train[['geoNetwork.country','visitNumber','totals.hits','totals.pageviews','totals.transactionRevenue']]"
   ]
  },
  {
   "cell_type": "code",
   "execution_count": 18,
   "metadata": {
    "_uuid": "e968b8aade2d68b78d92ab332feb6cde813bd495"
   },
   "outputs": [
    {
     "data": {
      "text/html": [
       "<div>\n",
       "<style>\n",
       "    .dataframe thead tr:only-child th {\n",
       "        text-align: right;\n",
       "    }\n",
       "\n",
       "    .dataframe thead th {\n",
       "        text-align: left;\n",
       "    }\n",
       "\n",
       "    .dataframe tbody tr th {\n",
       "        vertical-align: top;\n",
       "    }\n",
       "</style>\n",
       "<table border=\"1\" class=\"dataframe\">\n",
       "  <thead>\n",
       "    <tr style=\"text-align: right;\">\n",
       "      <th></th>\n",
       "      <th>geoNetwork.country</th>\n",
       "      <th>visitNumber</th>\n",
       "      <th>totals.hits</th>\n",
       "      <th>totals.pageviews</th>\n",
       "      <th>totals.transactionRevenue</th>\n",
       "    </tr>\n",
       "  </thead>\n",
       "  <tbody>\n",
       "    <tr>\n",
       "      <th>0</th>\n",
       "      <td>Turkey</td>\n",
       "      <td>1</td>\n",
       "      <td>1.0</td>\n",
       "      <td>1.0</td>\n",
       "      <td>0.0</td>\n",
       "    </tr>\n",
       "    <tr>\n",
       "      <th>1</th>\n",
       "      <td>Australia</td>\n",
       "      <td>1</td>\n",
       "      <td>1.0</td>\n",
       "      <td>1.0</td>\n",
       "      <td>0.0</td>\n",
       "    </tr>\n",
       "    <tr>\n",
       "      <th>2</th>\n",
       "      <td>Spain</td>\n",
       "      <td>1</td>\n",
       "      <td>1.0</td>\n",
       "      <td>1.0</td>\n",
       "      <td>0.0</td>\n",
       "    </tr>\n",
       "    <tr>\n",
       "      <th>3</th>\n",
       "      <td>Indonesia</td>\n",
       "      <td>1</td>\n",
       "      <td>1.0</td>\n",
       "      <td>1.0</td>\n",
       "      <td>0.0</td>\n",
       "    </tr>\n",
       "    <tr>\n",
       "      <th>4</th>\n",
       "      <td>United Kingdom</td>\n",
       "      <td>2</td>\n",
       "      <td>1.0</td>\n",
       "      <td>1.0</td>\n",
       "      <td>0.0</td>\n",
       "    </tr>\n",
       "  </tbody>\n",
       "</table>\n",
       "</div>"
      ],
      "text/plain": [
       "  geoNetwork.country  visitNumber  totals.hits  totals.pageviews  \\\n",
       "0             Turkey            1          1.0               1.0   \n",
       "1          Australia            1          1.0               1.0   \n",
       "2              Spain            1          1.0               1.0   \n",
       "3          Indonesia            1          1.0               1.0   \n",
       "4     United Kingdom            2          1.0               1.0   \n",
       "\n",
       "   totals.transactionRevenue  \n",
       "0                        0.0  \n",
       "1                        0.0  \n",
       "2                        0.0  \n",
       "3                        0.0  \n",
       "4                        0.0  "
      ]
     },
     "execution_count": 18,
     "metadata": {},
     "output_type": "execute_result"
    }
   ],
   "source": [
    "cluster_df.head()"
   ]
  },
  {
   "cell_type": "code",
   "execution_count": 19,
   "metadata": {
    "_uuid": "86983fd9a2905d819a58410208c4c349343cd99c",
    "scrolled": false
   },
   "outputs": [
    {
     "name": "stderr",
     "output_type": "stream",
     "text": [
      "/home/tonmoy/anaconda3/lib/python3.6/site-packages/ipykernel_launcher.py:1: SettingWithCopyWarning:\n",
      "\n",
      "\n",
      "A value is trying to be set on a copy of a slice from a DataFrame.\n",
      "Try using .loc[row_indexer,col_indexer] = value instead\n",
      "\n",
      "See the caveats in the documentation: http://pandas.pydata.org/pandas-docs/stable/indexing.html#indexing-view-versus-copy\n",
      "\n"
     ]
    },
    {
     "data": {
      "text/html": [
       "<div>\n",
       "<style>\n",
       "    .dataframe thead tr:only-child th {\n",
       "        text-align: right;\n",
       "    }\n",
       "\n",
       "    .dataframe thead th {\n",
       "        text-align: left;\n",
       "    }\n",
       "\n",
       "    .dataframe tbody tr th {\n",
       "        vertical-align: top;\n",
       "    }\n",
       "</style>\n",
       "<table border=\"1\" class=\"dataframe\">\n",
       "  <thead>\n",
       "    <tr style=\"text-align: right;\">\n",
       "      <th></th>\n",
       "      <th>geoNetwork.country</th>\n",
       "      <th>totals.transactionRevenue</th>\n",
       "      <th>visitNumber</th>\n",
       "      <th>totals.hits</th>\n",
       "      <th>totals.pageviews</th>\n",
       "    </tr>\n",
       "  </thead>\n",
       "  <tbody>\n",
       "    <tr>\n",
       "      <th>0</th>\n",
       "      <td>(not set)</td>\n",
       "      <td>769780000.0</td>\n",
       "      <td>1891</td>\n",
       "      <td>4533.0</td>\n",
       "      <td>3923.0</td>\n",
       "    </tr>\n",
       "    <tr>\n",
       "      <th>1</th>\n",
       "      <td>Afghanistan</td>\n",
       "      <td>0.0</td>\n",
       "      <td>61</td>\n",
       "      <td>138.0</td>\n",
       "      <td>117.0</td>\n",
       "    </tr>\n",
       "    <tr>\n",
       "      <th>2</th>\n",
       "      <td>Albania</td>\n",
       "      <td>0.0</td>\n",
       "      <td>608</td>\n",
       "      <td>996.0</td>\n",
       "      <td>909.0</td>\n",
       "    </tr>\n",
       "    <tr>\n",
       "      <th>3</th>\n",
       "      <td>Algeria</td>\n",
       "      <td>0.0</td>\n",
       "      <td>2243</td>\n",
       "      <td>3911.0</td>\n",
       "      <td>3487.0</td>\n",
       "    </tr>\n",
       "    <tr>\n",
       "      <th>4</th>\n",
       "      <td>American Samoa</td>\n",
       "      <td>0.0</td>\n",
       "      <td>1</td>\n",
       "      <td>1.0</td>\n",
       "      <td>1.0</td>\n",
       "    </tr>\n",
       "  </tbody>\n",
       "</table>\n",
       "</div>"
      ],
      "text/plain": [
       "  geoNetwork.country  totals.transactionRevenue  visitNumber  totals.hits  \\\n",
       "0          (not set)                769780000.0         1891       4533.0   \n",
       "1        Afghanistan                        0.0           61        138.0   \n",
       "2            Albania                        0.0          608        996.0   \n",
       "3            Algeria                        0.0         2243       3911.0   \n",
       "4     American Samoa                        0.0            1          1.0   \n",
       "\n",
       "   totals.pageviews  \n",
       "0            3923.0  \n",
       "1             117.0  \n",
       "2             909.0  \n",
       "3            3487.0  \n",
       "4               1.0  "
      ]
     },
     "execution_count": 19,
     "metadata": {},
     "output_type": "execute_result"
    }
   ],
   "source": [
    "cluster_df['totals.transactionRevenue']=cluster_df['totals.transactionRevenue'].astype(\"float\")\n",
    "# grouped = cluster_df.groupby(['fullVisitorId','geoNetwork.country','geoNetwork.continent'])\n",
    "cluster = cluster_df.groupby(['geoNetwork.country'])['totals.transactionRevenue','visitNumber','totals.hits','totals.pageviews'].sum().reset_index()\n",
    "\n",
    "cluster.head()\n",
    "#cluster = grouped['totals.transactionRevenue'].agg(np.sum)"
   ]
  },
  {
   "cell_type": "code",
   "execution_count": 20,
   "metadata": {
    "_uuid": "fcc050bd5eb6f9a6727de0527853d4ae9bf64ad7"
   },
   "outputs": [
    {
     "data": {
      "text/plain": [
       "(222, 5)"
      ]
     },
     "execution_count": 20,
     "metadata": {},
     "output_type": "execute_result"
    }
   ],
   "source": [
    "cluster.shape"
   ]
  },
  {
   "cell_type": "code",
   "execution_count": 21,
   "metadata": {
    "_uuid": "f70e835da143d27e70c81b9faece3744efcdb5fa",
    "collapsed": true
   },
   "outputs": [],
   "source": [
    "cl_backup = cluster\n",
    "#cluster = cl_backup"
   ]
  },
  {
   "cell_type": "code",
   "execution_count": null,
   "metadata": {
    "_uuid": "36128db049842639aeda54b54a1ec07e7788ceff",
    "collapsed": true
   },
   "outputs": [],
   "source": [
    "# from sklearn.preprocessing import OneHotEncoder,LabelEncoder\n",
    "\n",
    "# #cluster = pd.concat([cluster, pd.get_dummies(cluster['geoNetwork.city'])], axis=1)\n",
    "\n",
    "# cluster = pd.concat([cluster, pd.get_dummies(cluster['geoNetwork.country'])], axis=1)\n",
    "\n"
   ]
  },
  {
   "cell_type": "code",
   "execution_count": 22,
   "metadata": {
    "_uuid": "ec339f91f7093b93e8ef321db9c4c84e77831b0c"
   },
   "outputs": [
    {
     "data": {
      "text/html": [
       "<div>\n",
       "<style>\n",
       "    .dataframe thead tr:only-child th {\n",
       "        text-align: right;\n",
       "    }\n",
       "\n",
       "    .dataframe thead th {\n",
       "        text-align: left;\n",
       "    }\n",
       "\n",
       "    .dataframe tbody tr th {\n",
       "        vertical-align: top;\n",
       "    }\n",
       "</style>\n",
       "<table border=\"1\" class=\"dataframe\">\n",
       "  <thead>\n",
       "    <tr style=\"text-align: right;\">\n",
       "      <th></th>\n",
       "      <th>totals.transactionRevenue</th>\n",
       "      <th>visitNumber</th>\n",
       "      <th>totals.hits</th>\n",
       "      <th>totals.pageviews</th>\n",
       "    </tr>\n",
       "  </thead>\n",
       "  <tbody>\n",
       "    <tr>\n",
       "      <th>0</th>\n",
       "      <td>769780000.0</td>\n",
       "      <td>1891</td>\n",
       "      <td>4533.0</td>\n",
       "      <td>3923.0</td>\n",
       "    </tr>\n",
       "    <tr>\n",
       "      <th>1</th>\n",
       "      <td>0.0</td>\n",
       "      <td>61</td>\n",
       "      <td>138.0</td>\n",
       "      <td>117.0</td>\n",
       "    </tr>\n",
       "    <tr>\n",
       "      <th>2</th>\n",
       "      <td>0.0</td>\n",
       "      <td>608</td>\n",
       "      <td>996.0</td>\n",
       "      <td>909.0</td>\n",
       "    </tr>\n",
       "    <tr>\n",
       "      <th>3</th>\n",
       "      <td>0.0</td>\n",
       "      <td>2243</td>\n",
       "      <td>3911.0</td>\n",
       "      <td>3487.0</td>\n",
       "    </tr>\n",
       "    <tr>\n",
       "      <th>4</th>\n",
       "      <td>0.0</td>\n",
       "      <td>1</td>\n",
       "      <td>1.0</td>\n",
       "      <td>1.0</td>\n",
       "    </tr>\n",
       "  </tbody>\n",
       "</table>\n",
       "</div>"
      ],
      "text/plain": [
       "   totals.transactionRevenue  visitNumber  totals.hits  totals.pageviews\n",
       "0                769780000.0         1891       4533.0            3923.0\n",
       "1                        0.0           61        138.0             117.0\n",
       "2                        0.0          608        996.0             909.0\n",
       "3                        0.0         2243       3911.0            3487.0\n",
       "4                        0.0            1          1.0               1.0"
      ]
     },
     "execution_count": 22,
     "metadata": {},
     "output_type": "execute_result"
    }
   ],
   "source": [
    "cluster = cluster.drop(['geoNetwork.country'],axis=1)\n",
    "cluster.head()"
   ]
  },
  {
   "cell_type": "code",
   "execution_count": 23,
   "metadata": {
    "_uuid": "635e395ba53fefd512ebfbd676873302c5ecab07"
   },
   "outputs": [
    {
     "data": {
      "text/html": [
       "<div>\n",
       "<style>\n",
       "    .dataframe thead tr:only-child th {\n",
       "        text-align: right;\n",
       "    }\n",
       "\n",
       "    .dataframe thead th {\n",
       "        text-align: left;\n",
       "    }\n",
       "\n",
       "    .dataframe tbody tr th {\n",
       "        vertical-align: top;\n",
       "    }\n",
       "</style>\n",
       "<table border=\"1\" class=\"dataframe\">\n",
       "  <thead>\n",
       "    <tr style=\"text-align: right;\">\n",
       "      <th></th>\n",
       "      <th>totals.transactionRevenue</th>\n",
       "      <th>visitNumber</th>\n",
       "      <th>totals.hits</th>\n",
       "      <th>totals.pageviews</th>\n",
       "    </tr>\n",
       "  </thead>\n",
       "  <tbody>\n",
       "    <tr>\n",
       "      <th>0</th>\n",
       "      <td>0.00053</td>\n",
       "      <td>0.001581</td>\n",
       "      <td>0.001825</td>\n",
       "      <td>0.001930</td>\n",
       "    </tr>\n",
       "    <tr>\n",
       "      <th>1</th>\n",
       "      <td>0.00000</td>\n",
       "      <td>0.000050</td>\n",
       "      <td>0.000055</td>\n",
       "      <td>0.000057</td>\n",
       "    </tr>\n",
       "    <tr>\n",
       "      <th>2</th>\n",
       "      <td>0.00000</td>\n",
       "      <td>0.000508</td>\n",
       "      <td>0.000401</td>\n",
       "      <td>0.000447</td>\n",
       "    </tr>\n",
       "    <tr>\n",
       "      <th>3</th>\n",
       "      <td>0.00000</td>\n",
       "      <td>0.001876</td>\n",
       "      <td>0.001574</td>\n",
       "      <td>0.001716</td>\n",
       "    </tr>\n",
       "    <tr>\n",
       "      <th>4</th>\n",
       "      <td>0.00000</td>\n",
       "      <td>0.000000</td>\n",
       "      <td>0.000000</td>\n",
       "      <td>0.000000</td>\n",
       "    </tr>\n",
       "  </tbody>\n",
       "</table>\n",
       "</div>"
      ],
      "text/plain": [
       "   totals.transactionRevenue  visitNumber  totals.hits  totals.pageviews\n",
       "0                    0.00053     0.001581     0.001825          0.001930\n",
       "1                    0.00000     0.000050     0.000055          0.000057\n",
       "2                    0.00000     0.000508     0.000401          0.000447\n",
       "3                    0.00000     0.001876     0.001574          0.001716\n",
       "4                    0.00000     0.000000     0.000000          0.000000"
      ]
     },
     "execution_count": 23,
     "metadata": {},
     "output_type": "execute_result"
    }
   ],
   "source": [
    "from sklearn import preprocessing\n",
    "\n",
    "x = cluster.values #returns a numpy array\n",
    "min_max_scaler = preprocessing.MinMaxScaler()\n",
    "x_scaled = min_max_scaler.fit_transform(x)\n",
    "cluster =  pd.DataFrame(x_scaled,columns = ['totals.transactionRevenue','visitNumber','totals.hits','totals.pageviews'])\n",
    "cluster.head()"
   ]
  },
  {
   "cell_type": "code",
   "execution_count": 40,
   "metadata": {
    "_uuid": "ac67ed52dfa02f686b4617944de890ed46796e50"
   },
   "outputs": [
    {
     "data": {
      "text/plain": [
       "array([[  1.23317414e-04,   1.20730921e-03,   1.20564623e-03,\n",
       "          1.27977304e-03],\n",
       "       [  1.00000000e+00,   1.00000000e+00,   1.00000000e+00,\n",
       "          1.00000000e+00],\n",
       "       [  2.06921080e-03,   2.74117109e-02,   2.50826696e-02,\n",
       "          2.65139537e-02]])"
      ]
     },
     "execution_count": 40,
     "metadata": {},
     "output_type": "execute_result"
    }
   ],
   "source": [
    "import numpy as np\n",
    "import matplotlib.pyplot as plt\n",
    "#from mpl_toolkits.mplot3d import Axes3D\n",
    "from sklearn.cluster import KMeans\n",
    "\n",
    "\n",
    "# Initializing KMeans\n",
    "kmeans = KMeans(n_clusters=3)\n",
    "# Fitting with inputs\n",
    "X = cluster\n",
    "kmeans = kmeans.fit(X)\n",
    "# Predicting the clusters\n",
    "labels = kmeans.predict(X)\n",
    "# Getting the cluster centers\n",
    "C = kmeans.cluster_centers_\n",
    "\n",
    "kmeans = pd.DataFrame(labels)\n",
    "#X.insert((X.shape[1]),'kmeans',kmeans)\n",
    "C"
   ]
  },
  {
   "cell_type": "code",
   "execution_count": 41,
   "metadata": {
    "_uuid": "f666959075ab76afe14a6c04ce398222332017bb"
   },
   "outputs": [
    {
     "data": {
      "text/html": [
       "<iframe id=\"igraph\" scrolling=\"no\" style=\"border:none;\" seamless=\"seamless\" src=\"https://plot.ly/~tonmoycsedu/13.embed\" height=\"525px\" width=\"100%\"></iframe>"
      ],
      "text/plain": [
       "<plotly.tools.PlotlyDisplay object>"
      ]
     },
     "execution_count": 41,
     "metadata": {},
     "output_type": "execute_result"
    }
   ],
   "source": [
    "#wh1.insert(0,'Country',wh.iloc[:,0])\n",
    "#wh1.iloc[:,[0,9,10,11,12]]\n",
    "data = [dict(type='choropleth',\n",
    "             locations = cl_backup['geoNetwork.country'],\n",
    "             locationmode = 'country names',\n",
    "             z = labels,\n",
    "             text = cl_backup['geoNetwork.country'],\n",
    "             colorbar = {'title':'Cluster Group'})]\n",
    "layout = dict(title='Clustering of Countries based on K-Means',\n",
    "              geo = dict(showframe = False,\n",
    "                        showcoastlines = False,\n",
    "                        projection = dict(type = 'Mercator')))\n",
    "fig = dict( data=data, layout=layout )\n",
    "py.iplot( fig, validate=False, filename='d3-world-map' )"
   ]
  },
  {
   "cell_type": "code",
   "execution_count": null,
   "metadata": {
    "_uuid": "129d48af03f60c74a7b2fe89c67d909c0597cd85",
    "collapsed": true
   },
   "outputs": [],
   "source": [
    "from sklearn.decomposition import PCA\n",
    "\n",
    "pca = PCA(n_components=2).fit(cluster.head(100000))\n",
    "pca_2d = pca.transform(cluster.head(100000))"
   ]
  },
  {
   "cell_type": "code",
   "execution_count": null,
   "metadata": {
    "_uuid": "fd2cd41fffc32d66ed1e9a6ea7791e912b9b2e46",
    "collapsed": true
   },
   "outputs": [],
   "source": [
    "# import matplotlib.pyplot as plt\n",
    "\n",
    "# plt.scatter(pca_2d[:,0],pca_2d[:,1],c='green',s=20)\n",
    "# plt.show()"
   ]
  },
  {
   "cell_type": "code",
   "execution_count": null,
   "metadata": {
    "_uuid": "e4bd968f6888d3a230854fda70101c13f825d615",
    "collapsed": true
   },
   "outputs": [],
   "source": [
    "principalDf = pd.DataFrame(data = pca_2d\n",
    "             , columns = ['principal component 1', 'principal component 2'])\n",
    "finalDf = pd.concat([principalDf, cl_backup[['geoNetwork.continent']]], axis = 1)\n"
   ]
  },
  {
   "cell_type": "code",
   "execution_count": null,
   "metadata": {
    "_uuid": "8407a9c53abc3bd6e70208adebf26ad9b708e21a",
    "collapsed": true
   },
   "outputs": [],
   "source": [
    "finalDf.head()"
   ]
  },
  {
   "cell_type": "code",
   "execution_count": null,
   "metadata": {
    "_uuid": "5321f0d5763f3e00543299c0113e42f00a5e63c3",
    "collapsed": true
   },
   "outputs": [],
   "source": [
    "fig = plt.figure(figsize = (10,10))\n",
    "ax = fig.add_subplot(1,1,1) \n",
    "ax.set_xlabel('Principal Component 1', fontsize = 15)\n",
    "ax.set_ylabel('Principal Component 2', fontsize = 15)\n",
    "# Major ticks every 20, minor ticks every 5\n",
    "major_ticks1 = np.arange(-0.1, 0.4, 0.1)\n",
    "major_ticks2 = np.arange(-0.1, 0.2, 0.1)\n",
    "#minor_ticks = np.arange(0, 101, 5)\n",
    "\n",
    "ax.set_xticks(major_ticks1)\n",
    "# ax.set_xticks(minor_ticks, minor=True)\n",
    "ax.set_yticks(major_ticks2)\n",
    "ax.grid(which='both')\n",
    "# ax.set_yticks(minor_ticks, minor=True)\n",
    "ax.set_xlim([-0.1, 0.4])\n",
    "ax.set_ylim([-0.1, 0.2])\n",
    "ax.set_title('2 component PCA', fontsize = 20)\n",
    "targets = ['Asia', 'Oceania', 'Europe', 'Americas', 'Africa', '(not set)']\n",
    "colors = ['r', 'g', 'b', '#ff0066','#ffcc66','#ffff00']\n",
    "for target, color in zip(targets,colors):\n",
    "    indicesToKeep = finalDf['geoNetwork.continent'] == target\n",
    "    ax.scatter(finalDf.loc[indicesToKeep, 'principal component 1']\n",
    "               , finalDf.loc[indicesToKeep, 'principal component 2']\n",
    "               , c = color\n",
    "               , s = 20)\n",
    "ax.legend(targets)\n",
    "ax.grid()"
   ]
  },
  {
   "cell_type": "code",
   "execution_count": null,
   "metadata": {
    "_uuid": "bb903bfdbfd2b8f2e4b5b8b1e4a76592c7c4312b",
    "collapsed": true
   },
   "outputs": [],
   "source": [
    "import numpy as np\n",
    "import matplotlib.pyplot as plt\n",
    "#from mpl_toolkits.mplot3d import Axes3D\n",
    "from sklearn.cluster import KMeans\n",
    "\n",
    "\n",
    "# Initializing KMeans\n",
    "kmeans = KMeans(n_clusters=4)\n",
    "# Fitting with inputs\n",
    "X = principalDf\n",
    "kmeans = kmeans.fit(X)\n",
    "# Predicting the clusters\n",
    "labels = kmeans.predict(X)\n",
    "# Getting the cluster centers\n",
    "C = kmeans.cluster_centers_\n",
    "C\n",
    "kmeans = pd.DataFrame(labels)\n",
    "#X.insert((X.shape[1]),'kmeans',kmeans)"
   ]
  },
  {
   "cell_type": "code",
   "execution_count": null,
   "metadata": {
    "_uuid": "7ff44887bc351aaf68c55b08b29ae5fe24b67874",
    "collapsed": true
   },
   "outputs": [],
   "source": [
    "#Plot the clusters obtained using k means\n",
    "fig = plt.figure()\n",
    "ax = fig.add_subplot(111)\n",
    "scatter = ax.scatter(X['principal component 1'],X['principal component 2'],\n",
    "                     c=kmeans[0],s=20)\n",
    "ax.set_title('K-Means Clustering')\n",
    "ax.set_xlabel('Principle Component 1')\n",
    "ax.set_ylabel('Principle Component 2')\n",
    "major_ticks1 = np.arange(-0.1, 0.4, 0.1)\n",
    "major_ticks2 = np.arange(-0.1, 0.2, 0.1)\n",
    "#minor_ticks = np.arange(0, 101, 5)\n",
    "\n",
    "ax.set_xticks(major_ticks1)\n",
    "# ax.set_xticks(minor_ticks, minor=True)\n",
    "ax.set_yticks(major_ticks2)\n",
    "ax.grid(which='both')\n",
    "# ax.set_yticks(minor_ticks, minor=True)\n",
    "ax.set_xlim([-0.1, 0.4])\n",
    "ax.set_ylim([-0.1, 0.2])\n",
    "#plt.colorbar(scatter)"
   ]
  },
  {
   "cell_type": "markdown",
   "metadata": {
    "_uuid": "929d09065fa36e7e02bc6d4bd5eae1e9f72af2df"
   },
   "source": [
    "### Task 4 : Score Function"
   ]
  },
  {
   "cell_type": "code",
   "execution_count": null,
   "metadata": {
    "_uuid": "9f070f81a06a714b7f42173473d5983a7de474ad",
    "collapsed": true
   },
   "outputs": [],
   "source": [
    "df_train.head()"
   ]
  },
  {
   "cell_type": "code",
   "execution_count": null,
   "metadata": {
    "_uuid": "867d049bb093f075c220d8ea41a93560d6d2193e",
    "collapsed": true
   },
   "outputs": [],
   "source": [
    "grouped = df_train.groupby(\"fullVisitorId\")['totals.transactionRevenue'].sum().reset_index()"
   ]
  },
  {
   "cell_type": "markdown",
   "metadata": {
    "_uuid": "5e1adb2f6fb643d53e7a1ea178a0be08d5f131a3"
   },
   "source": [
    "Customer with lowest revenue production"
   ]
  },
  {
   "cell_type": "code",
   "execution_count": null,
   "metadata": {
    "_uuid": "5a39dbd8cd71f804905c0740a53575dec7867ffd",
    "collapsed": true
   },
   "outputs": [],
   "source": [
    "grouped = grouped.sort_values('totals.transactionRevenue')\n",
    "grouped.head(10)"
   ]
  },
  {
   "cell_type": "markdown",
   "metadata": {
    "_uuid": "9bc3749bba45b9ce78b36628dbe1b337a838b7c1"
   },
   "source": [
    "Customer with highest revenue production"
   ]
  },
  {
   "cell_type": "code",
   "execution_count": null,
   "metadata": {
    "_uuid": "a18ad9b1a6f2c829214a8382743288bc3c61cf2e",
    "collapsed": true
   },
   "outputs": [],
   "source": [
    "grouped = grouped.sort_values('totals.transactionRevenue',ascending=False)\n",
    "grouped.head(10)"
   ]
  },
  {
   "cell_type": "code",
   "execution_count": null,
   "metadata": {
    "_uuid": "dcdb5ba0d017d409b44e6b3b7807e25139fa59c9",
    "collapsed": true
   },
   "outputs": [],
   "source": [
    "finalDf = grouped[['fullVisitorId','visitNumber', 'totals.hits', 'totals.pageviews', 'totals.transactionRevenue']]\n",
    "finalDf.head()"
   ]
  },
  {
   "cell_type": "code",
   "execution_count": null,
   "metadata": {
    "_uuid": "94777b51cf3d753339ee7dcb4a186f463a37dfc3",
    "collapsed": true
   },
   "outputs": [],
   "source": [
    "grouped.head()"
   ]
  },
  {
   "cell_type": "code",
   "execution_count": null,
   "metadata": {
    "_uuid": "fcb75ca46dde9cde705d8e973f4bd152cab9a7e9",
    "collapsed": true
   },
   "outputs": [],
   "source": [
    "from sklearn import preprocessing\n",
    "\n",
    "x = finalDf[['visitNumber', 'totals.hits', 'totals.pageviews']].values #returns a numpy array\n",
    "min_max_scaler = preprocessing.MinMaxScaler()\n",
    "x_scaled = min_max_scaler.fit_transform(x)\n",
    "finalDf = pd.concat([finalDf, pd.DataFrame(x_scaled,columns = ['NL.visitNumber','NL.totals.hits','NL.totals.pageviews'])],axis=1)\n",
    "finalDf.head()"
   ]
  },
  {
   "cell_type": "code",
   "execution_count": null,
   "metadata": {
    "_uuid": "41dcf2ca8567c241e84e8ba9cef84ef5eb106a68",
    "collapsed": true
   },
   "outputs": [],
   "source": [
    "import math\n",
    "\n",
    "def sigmoid(x):\n",
    "    return 1 / (1 + math.exp(-x))"
   ]
  },
  {
   "cell_type": "code",
   "execution_count": null,
   "metadata": {
    "_uuid": "b11f56b01dd33f5c1e7f8d3f050afcf051f7b48e",
    "collapsed": true
   },
   "outputs": [],
   "source": [
    "score = []\n",
    "\n",
    "for index, row in finalDf.iterrows():\n",
    "    # Calculate year, month, date\n",
    "    visits = float(row['NL.visitNumber'])\n",
    "    hits = float(row['NL.totals.hits'])\n",
    "    views = float(row['NL.totals.pageviews'])\n",
    "    x = visits+hits+views\n",
    "    score.append(sigmoid(x))\n",
    "\n",
    "\n",
    "finalDf['score'] = score\n",
    "finalDf.head()\n",
    "#print(len(month))\n",
    "    \n",
    "  "
   ]
  },
  {
   "cell_type": "code",
   "execution_count": null,
   "metadata": {
    "_uuid": "31170696da7011bd10599fc6f02e58f6e5248e14",
    "collapsed": true
   },
   "outputs": [],
   "source": [
    "finalDf = finalDf.sort_values('score',ascending= False)\n",
    "finalDf.head(10)"
   ]
  },
  {
   "cell_type": "code",
   "execution_count": null,
   "metadata": {
    "_uuid": "8d3b9b2b4e6c5ecf63fcb14f3cef9a1115d7d95c",
    "collapsed": true
   },
   "outputs": [],
   "source": [
    "grouped = df_train.groupby(\"fullVisitorId\").sum().reset_index()\n",
    "grouped = grouped.sort_values('totals.transactionRevenue',ascending= False)\n",
    "grouped.head(10)"
   ]
  },
  {
   "cell_type": "markdown",
   "metadata": {
    "_uuid": "54e808074ae44d39b19117c28a3de8bddcfb6a7d"
   },
   "source": [
    "### Task 5 : External Dataset\n",
    "\n",
    "https://data.worldbank.org/indicator/NY.GDP.PCAP.CD?end=2017&start=2016"
   ]
  },
  {
   "cell_type": "code",
   "execution_count": null,
   "metadata": {
    "_uuid": "57373a4cf9ba6da555b4c1b92eaeb187c9427bfa",
    "collapsed": true
   },
   "outputs": [],
   "source": [
    "import pandas as pd\n",
    "Location = r'../input/gdppcapita/GDP_per_capita.csv'\n",
    "df = pd.read_csv(Location)\n",
    "df = df.drop(['Country Code'],axis=1)\n",
    "df.head()"
   ]
  },
  {
   "cell_type": "code",
   "execution_count": null,
   "metadata": {
    "_uuid": "b9595877aa8259250de9b21a0c388ac8f3063361",
    "collapsed": true
   },
   "outputs": [],
   "source": [
    "df = df.set_index('Country Name')"
   ]
  },
  {
   "cell_type": "code",
   "execution_count": null,
   "metadata": {
    "_uuid": "b0f26f40e02d9b582374fe3119971bc1ecfa5b06",
    "collapsed": true
   },
   "outputs": [],
   "source": [
    "df = df.to_dict()"
   ]
  },
  {
   "cell_type": "code",
   "execution_count": null,
   "metadata": {
    "_uuid": "00d9504192df4d33d581add4316caf9ce6185e99",
    "collapsed": true
   },
   "outputs": [],
   "source": [
    "df['2016']['Brazil']"
   ]
  },
  {
   "cell_type": "code",
   "execution_count": null,
   "metadata": {
    "_uuid": "7fcb681c4d34f2a1a5f9babf3f253ef77bedb0cb",
    "collapsed": true
   },
   "outputs": [],
   "source": [
    "extra_df = make_feature(df_train)"
   ]
  },
  {
   "cell_type": "code",
   "execution_count": null,
   "metadata": {
    "_uuid": "6106b0ad23f07ccf0591ed949794f22b1f100986",
    "collapsed": true
   },
   "outputs": [],
   "source": [
    "extra_df.shape"
   ]
  },
  {
   "cell_type": "code",
   "execution_count": null,
   "metadata": {
    "_uuid": "2ed9187add3877880811082410a2e821172c1fa3",
    "collapsed": true
   },
   "outputs": [],
   "source": [
    "gdppc = []\n",
    "\n",
    "for index, row in extra_df.iterrows():\n",
    "    # Calculate year, month, date\n",
    "    year = str(row['year'])\n",
    "    country = str(row['geoNetwork.country'])\n",
    "    #temp = df.loc[(df['Country Name'] == country)]\n",
    "    try:\n",
    "        gdp = df[year][country]\n",
    "    except:\n",
    "        gdp = float('NaN')\n",
    "        \n",
    "    gdppc.append(gdp)\n",
    "    #month.append(month_val)\n",
    "#         print(year_val,month_val)\n",
    "\n",
    "#         if(index == 5):\n",
    "#             break\n",
    "\n",
    "# df['month'] = month\n",
    "# df['year'] = year\n",
    "#print(gdppc)"
   ]
  },
  {
   "cell_type": "code",
   "execution_count": null,
   "metadata": {
    "_uuid": "1767a2f5eac1375393c607d0f7f3fd5c758207c7",
    "collapsed": true
   },
   "outputs": [],
   "source": [
    "print(len(gdppc))"
   ]
  },
  {
   "cell_type": "code",
   "execution_count": null,
   "metadata": {
    "_uuid": "95b03acabde814fad52c290a55a1f3d44425c216",
    "collapsed": true
   },
   "outputs": [],
   "source": [
    "extra_df['gdp_p_c'] = gdppc"
   ]
  },
  {
   "cell_type": "code",
   "execution_count": null,
   "metadata": {
    "_uuid": "32334444b71134cb0c71bc0e50804c3172880f5a",
    "collapsed": true
   },
   "outputs": [],
   "source": [
    "extra_df = extra_df.drop('date',axis=1)\n",
    "extra_df.head()"
   ]
  },
  {
   "cell_type": "markdown",
   "metadata": {
    "_uuid": "8fccf6157969e8832984e73d8cc26054aab1e95e"
   },
   "source": [
    "### Task 6: Build Model"
   ]
  },
  {
   "cell_type": "code",
   "execution_count": null,
   "metadata": {
    "_uuid": "6a003d91ccb8afe43b51ffdf7faebe98a7fc35ef",
    "collapsed": true
   },
   "outputs": [],
   "source": [
    "test_df = load_df(\"../input/ga-customer-revenue-prediction/test.csv\")\n",
    "test_df.shape"
   ]
  },
  {
   "cell_type": "code",
   "execution_count": null,
   "metadata": {
    "_uuid": "579bae8606cc74b10203d5f4ac29a988b6d559a5",
    "collapsed": true
   },
   "outputs": [],
   "source": [
    "null_count = test_df.isna().sum()\n",
    "null_count"
   ]
  },
  {
   "cell_type": "code",
   "execution_count": null,
   "metadata": {
    "_uuid": "7c4edbb8c346996fb89b5ef63163dd19a32d744d",
    "collapsed": true
   },
   "outputs": [],
   "source": [
    "null_columns =  preprocess(test_df,0)\n",
    "#print(null_columns)\n",
    "test_df = test_df.drop(null_columns,axis=1)\n",
    "const_cols = [c for c in test_df.columns if test_df[c].nunique(dropna=False)==1 ]\n",
    "test_df = test_df.drop(const_cols,axis=1)"
   ]
  },
  {
   "cell_type": "code",
   "execution_count": null,
   "metadata": {
    "_uuid": "12591d4c41bd4dcf2d79bfc26d1dd1c4be343e38",
    "collapsed": true
   },
   "outputs": [],
   "source": [
    "print(\"Variables not in test but in train : \", set(df_train.columns).difference(set(test_df.columns)))"
   ]
  },
  {
   "cell_type": "code",
   "execution_count": null,
   "metadata": {
    "_uuid": "1916052e9ca8bab2a604b0bd29c1e5240899aafc",
    "collapsed": true
   },
   "outputs": [],
   "source": [
    "for col in ['totals.hits','totals.pageviews']:\n",
    "    test_df[col]=test_df[col].astype(\"float\")"
   ]
  },
  {
   "cell_type": "code",
   "execution_count": null,
   "metadata": {
    "_uuid": "54b7c6698ab44396984829ff7852ecef4c5f2a1d",
    "collapsed": true
   },
   "outputs": [],
   "source": [
    "test_df.to_csv(\"preprocessed_test.csv\", index=False)"
   ]
  },
  {
   "cell_type": "code",
   "execution_count": null,
   "metadata": {
    "_uuid": "e9ec20f04fa62f500c0039e57835654b15aee9db",
    "collapsed": true
   },
   "outputs": [],
   "source": [
    "test_df.dtypes"
   ]
  },
  {
   "cell_type": "code",
   "execution_count": null,
   "metadata": {
    "_uuid": "a2e85c14ff93e3554e049e7cee115b38a67bc2be",
    "collapsed": true
   },
   "outputs": [],
   "source": [
    "test_df_backup = test_df\n",
    "train_df_backup = df_train"
   ]
  },
  {
   "cell_type": "code",
   "execution_count": null,
   "metadata": {
    "_uuid": "8ea3c069e865fad67636fd1cbe3727fa81a256df",
    "collapsed": true
   },
   "outputs": [],
   "source": [
    "df_train = df_train.drop(['visitId','sessionId'],axis=1)\n",
    "test_df = test_df.drop(['visitId','sessionId'],axis=1)"
   ]
  },
  {
   "cell_type": "code",
   "execution_count": null,
   "metadata": {
    "_uuid": "95a3fc3c222e3a44abb834142c8199c5c84ec90f",
    "collapsed": true
   },
   "outputs": [],
   "source": [
    "df_train.head()"
   ]
  },
  {
   "cell_type": "code",
   "execution_count": null,
   "metadata": {
    "_uuid": "91e3ae9903b457deb28c1818dda72cf80d30b4f1",
    "collapsed": true
   },
   "outputs": [],
   "source": [
    "df_train = make_feature(df_train)\n",
    "test_df = make_feature(test_df)"
   ]
  },
  {
   "cell_type": "code",
   "execution_count": null,
   "metadata": {
    "_uuid": "f492a4966cf75ef4fdee01ed352149283318ee4c",
    "collapsed": true
   },
   "outputs": [],
   "source": [
    "for col in ['month','year']:\n",
    "    test_df[col]=test_df[col].astype(\"int\")\n",
    "    df_train[col]=df_train[col].astype(\"int\")"
   ]
  },
  {
   "cell_type": "code",
   "execution_count": null,
   "metadata": {
    "_uuid": "7c491177f6fe353985ddeedb1ee7d608409d0d1e",
    "collapsed": true
   },
   "outputs": [],
   "source": [
    "# label encode the categorical variables and convert the numerical variables to float\n",
    "categorical_feature = [\"channelGrouping\", \"device.browser\", \n",
    "            \"device.deviceCategory\", \"device.isMobile\" , \"device.operatingSystem\", \n",
    "            \"geoNetwork.city\", \"geoNetwork.continent\", \n",
    "            \"geoNetwork.country\", \"geoNetwork.metro\",\n",
    "            \"geoNetwork.networkDomain\", \"geoNetwork.region\", \n",
    "            \"geoNetwork.subContinent\", \"trafficSource.campaign\",\n",
    "            \"trafficSource.medium\", \"trafficSource.source\"]"
   ]
  },
  {
   "cell_type": "code",
   "execution_count": null,
   "metadata": {
    "_uuid": "678fb5aa57d450d2fd3f94627b6d8380ed1fd870",
    "collapsed": true
   },
   "outputs": [],
   "source": [
    "for feature in categorical_feature:\n",
    "    lbl = preprocessing.LabelEncoder()\n",
    "    lbl.fit(list(df_train[feature].values.astype('str'))+list(test_df[feature].values.astype('str')))\n",
    "    df_train[feature] = lbl.transform(list(df_train[feature].values.astype('str')))\n",
    "    test_df[feature] = lbl.transform(list(test_df[feature].values.astype('str')))"
   ]
  },
  {
   "cell_type": "code",
   "execution_count": null,
   "metadata": {
    "_uuid": "00ae3d5e5cbe51fe91318aa3ff30eba67f512e62",
    "collapsed": true
   },
   "outputs": [],
   "source": [
    "#import datetime\n",
    "\n",
    "train_y = df_train[\"totals.transactionRevenue\"].values\n",
    "train_id = df_train[\"fullVisitorId\"].values\n",
    "test_id = test_df[\"fullVisitorId\"].values\n",
    "\n",
    "\n",
    "# Split the train dataset into development and valid based on time \n",
    "dev_df = df_train[df_train['month']>=2]\n",
    "val_df = df_train[df_train['month']<3]\n",
    "dev_y = np.log1p(dev_df[\"totals.transactionRevenue\"].values)\n",
    "val_y = np.log1p(val_df[\"totals.transactionRevenue\"].values)\n",
    "\n",
    "# dev_X = dev_df[cat_cols + num_cols] \n",
    "# val_X = val_df[cat_cols + num_cols] \n",
    "# test_X = test_df[cat_cols + num_cols] "
   ]
  },
  {
   "cell_type": "code",
   "execution_count": null,
   "metadata": {
    "_uuid": "595bd59c91e4923956319d47fd1194bc44a386d9",
    "collapsed": true
   },
   "outputs": [],
   "source": [
    "df_train.dtypes"
   ]
  },
  {
   "cell_type": "code",
   "execution_count": null,
   "metadata": {
    "_uuid": "eea42a25c32a276a9aedf5d1c2bf19dbbc859107",
    "collapsed": true
   },
   "outputs": [],
   "source": [
    "dev_df = dev_df.drop(['date','fullVisitorId','totals.transactionRevenue'],axis=1)\n",
    "val_df = val_df.drop(['date','fullVisitorId','totals.transactionRevenue'],axis=1)\n",
    "test_df = test_df.drop(['date','fullVisitorId'],axis=1)"
   ]
  },
  {
   "cell_type": "code",
   "execution_count": null,
   "metadata": {
    "_uuid": "d8200d7cf39f8df6b45abe22fd6f729df71c6004",
    "collapsed": true
   },
   "outputs": [],
   "source": [
    "dev_df = dev_df.drop(['visitStartTime'],axis=1)\n",
    "val_df = val_df.drop(['visitStartTime'],axis=1)\n",
    "test_df = test_df.drop(['visitStartTime'],axis=1)"
   ]
  },
  {
   "cell_type": "code",
   "execution_count": null,
   "metadata": {
    "_uuid": "b676589f95459b569404fdf72b70cea36804be90",
    "collapsed": true
   },
   "outputs": [],
   "source": [
    "# custom function to run light gbm model\n",
    "import lightgbm as lgb\n",
    "def run_lgb(train_X, train_y, val_X, val_y, test_X):\n",
    "    params = {\n",
    "        \"objective\" : \"regression\",\n",
    "        \"metric\" : \"rmse\", \n",
    "        \"num_leaves\" : 30,\n",
    "        \"min_child_samples\" : 100,\n",
    "        \"learning_rate\" : 0.1,\n",
    "        \"bagging_fraction\" : 0.7,\n",
    "        \"feature_fraction\" : 0.5,\n",
    "        \"bagging_frequency\" : 5,\n",
    "        \"bagging_seed\" : 2018,\n",
    "        \"verbosity\" : -1\n",
    "    }\n",
    "    \n",
    "    lgtrain = lgb.Dataset(train_X, label=train_y)\n",
    "    lgval = lgb.Dataset(val_X, label=val_y)\n",
    "    model = lgb.train(params, lgtrain, 1000, valid_sets=[lgval], early_stopping_rounds=100, verbose_eval=100)\n",
    "    \n",
    "    pred_test_y = model.predict(test_X, num_iteration=model.best_iteration)\n",
    "    pred_val_y = model.predict(val_X, num_iteration=model.best_iteration)\n",
    "    return pred_test_y, model, pred_val_y\n",
    "\n",
    "# Training the model #\n",
    "pred_test, model, pred_val = run_lgb(dev_df, dev_y, val_df, val_y, test_df)"
   ]
  },
  {
   "cell_type": "code",
   "execution_count": null,
   "metadata": {
    "_uuid": "6a301d19ed8781933b46114d6e02c24240b2911c",
    "collapsed": true
   },
   "outputs": [],
   "source": [
    "# from sklearn import metrics\n",
    "# pred_val[pred_val<0] = 0\n",
    "# val_pred_df = pd.DataFrame({\"fullVisitorId\":val_df[\"fullVisitorId\"].values})\n",
    "# val_pred_df[\"transactionRevenue\"] = val_df[\"totals.transactionRevenue\"].values\n",
    "# val_pred_df[\"PredictedRevenue\"] = np.expm1(pred_val)\n",
    "# #print(np.sqrt(metrics.mean_squared_error(np.log1p(val_pred_df[\"transactionRevenue\"].values), np.log1p(val_pred_df[\"PredictedRevenue\"].values))))\n",
    "# val_pred_df = val_pred_df.groupby(\"fullVisitorId\")[\"transactionRevenue\", \"PredictedRevenue\"].sum().reset_index()\n",
    "# print(np.sqrt(metrics.mean_squared_error(np.log1p(val_pred_df[\"transactionRevenue\"].values), np.log1p(val_pred_df[\"PredictedRevenue\"].values))))"
   ]
  },
  {
   "cell_type": "code",
   "execution_count": null,
   "metadata": {
    "_uuid": "0cb5fb74d1fd9f27ee5d2752b9612a1617120d86",
    "collapsed": true
   },
   "outputs": [],
   "source": [
    "# sub_df = pd.DataFrame({\"fullVisitorId\":test_id})\n",
    "# pred_test[pred_test<0] = 0\n",
    "# sub_df[\"PredictedLogRevenue\"] = np.expm1(pred_test)\n",
    "# sub_df = sub_df.groupby(\"fullVisitorId\")[\"PredictedLogRevenue\"].sum().reset_index()\n",
    "# sub_df.columns = [\"fullVisitorId\", \"PredictedLogRevenue\"]\n",
    "# sub_df[\"PredictedLogRevenue\"] = np.log1p(sub_df[\"PredictedLogRevenue\"])\n",
    "# sub_df.to_csv(\"baseline_lgb.csv\", index=False)"
   ]
  }
 ],
 "metadata": {
  "kernelspec": {
   "display_name": "Python 3",
   "language": "python",
   "name": "python3"
  },
  "language_info": {
   "codemirror_mode": {
    "name": "ipython",
    "version": 3
   },
   "file_extension": ".py",
   "mimetype": "text/x-python",
   "name": "python",
   "nbconvert_exporter": "python",
   "pygments_lexer": "ipython3",
   "version": "3.6.1"
  }
 },
 "nbformat": 4,
 "nbformat_minor": 1
}
